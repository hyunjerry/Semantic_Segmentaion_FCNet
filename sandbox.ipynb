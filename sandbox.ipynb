{
 "cells": [
  {
   "cell_type": "code",
   "execution_count": 3,
   "metadata": {},
   "outputs": [
    {
     "name": "stdout",
     "output_type": "stream",
     "text": [
      "3 2\n",
      "24\n"
     ]
    }
   ],
   "source": [
    "# Calculator\n",
    "# conduct the line and output calculation while operating * before +\n",
    "\n",
    "line = '2*3*4'\n",
    "\n",
    "def get_nums(line):\n",
    "  left, right = 0, 0\n",
    "  str_nums = []\n",
    "  \n",
    "  while True:\n",
    "    if line[left].isnumeric() & line[right].isnumeric():\n",
    "      right += 1\n",
    "\n",
    "    elif line[left].isnumeric() & ~(line[right].isnumeric()):\n",
    "      str_nums.append(line[left:right])\n",
    "      left = right\n",
    "\n",
    "    elif ~line[left].isnumeric():\n",
    "      left += 1\n",
    "      if right < left:\n",
    "        right = left\n",
    "    \n",
    "    if right == len(line):\n",
    "      str_nums.append(line[left:right])\n",
    "\n",
    "    if right == len(line):\n",
    "      break\n",
    "  return str_nums\n",
    "\n",
    "def get_ops(line):\n",
    "  ops = []\n",
    "  for i in line:\n",
    "    if not i.isnumeric():\n",
    "      ops.append(i)\n",
    "  return ops\n",
    "\n",
    "nums = get_nums(line)\n",
    "ops = get_ops(line)\n",
    "print(len(nums), len(ops))\n",
    "\n",
    "while '*' in ops:\n",
    "    ind = ops.index('*')\n",
    "    nums[ind] = int(nums[ind]) * int(nums[ind+1])\n",
    "    nums.pop(ind+1)\n",
    "    ops.pop(ind)\n",
    "\n",
    "nums = [int(i) for i in nums]\n",
    "output = sum(nums)\n",
    "\n",
    "print(output)"
   ]
  },
  {
   "cell_type": "code",
   "execution_count": null,
   "metadata": {},
   "outputs": [],
   "source": []
  },
  {
   "cell_type": "code",
   "execution_count": 8,
   "metadata": {},
   "outputs": [
    {
     "name": "stdout",
     "output_type": "stream",
     "text": [
      "[3, 3, 3, 3, 3]\n",
      "2\n",
      "Invalid\n"
     ]
    }
   ],
   "source": [
    "# Count number of horses by overlapping 'neigh' \n",
    "# If the line is 'neighneigh', max count is 1.\n",
    "\n",
    "def horse_count(line):\n",
    "  max_count = 0\n",
    "  count = 0\n",
    "  let = []\n",
    "  check = list(set(line))\n",
    "  for i in check:\n",
    "    if i not in 'neigh':\n",
    "      return 'Invalid'\n",
    "      \n",
    "  if len(line)%5 != 0:\n",
    "    return 'Invalid'\n",
    "  \n",
    "  let = [0, 0, 0, 0, 0]\n",
    "\n",
    "  for i in line:\n",
    "    if i=='n':\n",
    "      count += 1\n",
    "      let[0] += 1\n",
    "    elif i=='e':\n",
    "      let[1] += 1\n",
    "    elif i=='i':\n",
    "      let[2] += 1\n",
    "    elif i=='g':\n",
    "      let[3] += 1\n",
    "    elif i=='h':\n",
    "      count-=1\n",
    "      let[4] += 1\n",
    "    \n",
    "    cond1 = let[0] >= let[1]\n",
    "    cond2 = let[1] >= let[2]\n",
    "    cond3 = let[2] >= let[3]\n",
    "    cond4 = let[3] >= let[4]\n",
    "\n",
    "    if cond1 and cond2 and cond3 and cond4:\n",
    "      pass\n",
    "    else:\n",
    "      return 'Invalid'\n",
    "\n",
    "      \n",
    "    if count > max_count:\n",
    "      max_count = count\n",
    "      \n",
    "  print(let)  \n",
    "  return max_count\n",
    "\n",
    "# line = 'ne n ig e h n i eigh gh'\n",
    "line  = 'nenigehnieighgh'\n",
    "line2 = 'negneighnieighgh'\n",
    "print(horse_count(line))\n",
    "print(horse_count(line2))"
   ]
  },
  {
   "cell_type": "code",
   "execution_count": 12,
   "metadata": {},
   "outputs": [
    {
     "name": "stdout",
     "output_type": "stream",
     "text": [
      "Execution time: 0.0 seconds\n"
     ]
    }
   ],
   "source": [
    "import time\n",
    "\n",
    "time1 = time.time()\n",
    "# Code to measure\n",
    "time2 = time.time()\n",
    "execution_time = time2 - time1\n",
    "print(f\"Execution time: {execution_time} seconds\")"
   ]
  },
  {
   "cell_type": "code",
   "execution_count": 12,
   "metadata": {},
   "outputs": [
    {
     "ename": "SyntaxError",
     "evalue": "invalid decimal literal (2712507025.py, line 63)",
     "output_type": "error",
     "traceback": [
      "\u001b[1;36m  Input \u001b[1;32mIn [12]\u001b[1;36m\u001b[0m\n\u001b[1;33m    print(5.item())\u001b[0m\n\u001b[1;37m           ^\u001b[0m\n\u001b[1;31mSyntaxError\u001b[0m\u001b[1;31m:\u001b[0m invalid decimal literal\n"
     ]
    }
   ],
   "source": [
    "import torch\n",
    "\n",
    "confusion_matrix = torch.tensor([\n",
    "    [5, 0, 0],\n",
    "    [1, 4, 1],\n",
    "    [0, 2, 3]\n",
    "])\n",
    "\n",
    "# Total true pixels per class\n",
    "ti = confusion_matrix.sum(1)\n",
    "# Total predicted pixels per class\n",
    "nji = confusion_matrix.sum(0)\n",
    "# Correctly predicted pixels per class\n",
    "nii = torch.diag(confusion_matrix)\n",
    "\n",
    "# Pixel Accuracy\n",
    "pixel_acc = nii.sum() / ti.sum()\n",
    "\n",
    "# IoU for each class and Mean IoU\n",
    "iou = nii / (ti + nji - nii)\n",
    "mean_iou = iou.sum() / nii.size(0)\n",
    "\n",
    "# Frequency Weighted IoU\n",
    "freq = ti / ti.sum()\n",
    "freq_iou = (freq * iou).sum()\n",
    "\n",
    "# Example loss list\n",
    "loss_list = [0.2, 0.4, 0.3, 0.5]\n",
    "loss_avg = sum(loss_list) / len(loss_list)\n",
    "\n",
    "# # Print metrics\n",
    "# print(f'Pixel Accuracy: {pixel_acc.item()}')\n",
    "# print(f'Mean IoU: {mean_iou.item()}')\n",
    "# print(f'Frequency Weighted IoU: {freq_iou.item()}')\n",
    "# print(f'Average Loss: {loss_avg}')\n",
    "\n",
    "# print('Pixel accuracy: {:.4f}, Mean IoU: {:.4f}, Frequency weighted IoU: {:.4f}, Loss: {:.4f}'.format(pixel_acc, mean_iou, freq_iou, loss))\n",
    "\n",
    "# epoch = 1\n",
    "# num_epochs = 50\n",
    "# i = 10\n",
    "# dataloader_train = 24\n",
    "# aa =  2.717334008216858\n",
    "# print ('Epoch [{}/{}], Step [{}/{}], Loss: {:.4f}'.format(epoch+1, num_epochs, i+1, dataloader_train, aa))\n",
    "\n",
    "\n",
    "import torch.nn as nn\n",
    "outputs = torch.randn(3, 30)  # Simulated network output for 3 samples\n",
    "labels = torch.tensor([2, 0, 17])  # True class labels for each sample\n",
    "\n",
    "# Define the loss function\n",
    "cross_entropy = nn.CrossEntropyLoss()\n",
    "\n",
    "# Compute the loss\n",
    "loss = [0.0000e+00, 0.0000e+00, 6.2797e-05, 0.0000e+00, 6.5703e-01, 3.5423e-01,\n",
    "        0.0000e+00, 0.0000e+00, 3.1028e-03, 5.2561e-02, 2.4545e-01, 0.0000e+00,\n",
    "        0.0000e+00, 0.0000e+00, 2.8789e-03, 0.0000e+00, 8.3401e-06, 8.1580e-01,\n",
    "        0.0000e+00, 4.8016e-01, 0.0000e+00, 8.4007e-01, 0.0000e+00, 0.0000e+00,\n",
    "        5.9774e-05, 5.9301e-01, 0.0000e+00, 3.8661e-02, 4.8859e-03, 3.0487e-03]\n",
    "qq = torch.tensor(loss)\n",
    "\n",
    "print((qq.sum() / qq.sum()).item())"
   ]
  },
  {
   "cell_type": "code",
   "execution_count": null,
   "metadata": {},
   "outputs": [],
   "source": [
    "import numpy as np\n",
    "\n",
    "# Load the array from an NPY file\n",
    "loaded_arr = np.load('test_pred.npy')\n",
    "\n",
    "print(loaded_arr)"
   ]
  },
  {
   "cell_type": "code",
   "execution_count": 21,
   "metadata": {},
   "outputs": [
    {
     "name": "stdout",
     "output_type": "stream",
     "text": [
      "[9, 0, 6, 7, 9, 0, 3, 7, 7, 4, 2, 0, 8, 7, 5, 1, 3, 5, 0, 6]\n",
      "[9, 0, 6, 7, 9, 0, 3, 7, 7, 4, 2, 0, 8, 7, 5, 1, 3, 5, 0, 6]\n",
      "[9, 0, 6, 7, 9, 0, 3, 7, 7, 4, 2, 0, 8, 7, 5, 1, 3, 5, 0, 6]\n",
      "[9, 0, 6, 7, 9, 0, 3, 7, 7, 4, 2, 0, 8, 7, 5, 1, 3, 5, 0, 6]\n",
      "[9, 0, 6, 7, 9, 0, 3, 7, 7, 4, 2, 0, 8, 7, 5, 1, 3, 5, 0, 6]\n",
      "[9, 0, 6, 7, 9, 0, 3, 7, 7, 4, 2, 0, 8, 7, 5, 1, 3, 5, 0, 6]\n",
      "[9, 0, 6, 7, 9, 0, 3, 7, 7, 4, 2, 0, 8, 7, 5, 1, 3, 5, 0, 6]\n",
      "[9, 0, 6, 7, 9, 0, 3, 7, 7, 4, 2, 0, 8, 7, 5, 1, 3, 5, 0, 6]\n",
      "[9, 0, 6, 7, 9, 0, 3, 7, 7, 4, 2, 0, 8, 7, 5, 1, 3, 5, 0, 6]\n",
      "[9, 0, 6, 7, 9, 0, 3, 7, 7, 4, 2, 0, 8, 7, 5, 1, 3, 5, 0, 6]\n"
     ]
    }
   ],
   "source": [
    "import random\n",
    "\n",
    "for _ in range(10):\n",
    "    random.seed(10)\n",
    "    for i in range(20):\n",
    "        check.append(random.randint(0,9))\n",
    "    print(check)\n",
    "    check = []"
   ]
  },
  {
   "cell_type": "code",
   "execution_count": null,
   "metadata": {},
   "outputs": [],
   "source": []
  },
  {
   "cell_type": "code",
   "execution_count": null,
   "metadata": {},
   "outputs": [],
   "source": []
  }
 ],
 "metadata": {
  "kernelspec": {
   "display_name": "Python 3",
   "language": "python",
   "name": "python3"
  },
  "language_info": {
   "codemirror_mode": {
    "name": "ipython",
    "version": 3
   },
   "file_extension": ".py",
   "mimetype": "text/x-python",
   "name": "python",
   "nbconvert_exporter": "python",
   "pygments_lexer": "ipython3",
   "version": "3.10.11"
  }
 },
 "nbformat": 4,
 "nbformat_minor": 2
}
